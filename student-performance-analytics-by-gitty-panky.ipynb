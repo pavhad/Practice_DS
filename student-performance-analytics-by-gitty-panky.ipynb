{
 "cells": [
  {
   "cell_type": "code",
   "execution_count": 1,
   "id": "bc8d2dba",
   "metadata": {
    "_cell_guid": "b1076dfc-b9ad-4769-8c92-a6c4dae69d19",
    "_uuid": "8f2839f25d086af736a60e9eeb907d3b93b6e0e5",
    "execution": {
     "iopub.execute_input": "2022-07-02T21:11:34.744520Z",
     "iopub.status.busy": "2022-07-02T21:11:34.743529Z",
     "iopub.status.idle": "2022-07-02T21:11:37.023259Z",
     "shell.execute_reply": "2022-07-02T21:11:37.021903Z"
    },
    "papermill": {
     "duration": 2.291266,
     "end_time": "2022-07-02T21:11:37.025696",
     "exception": false,
     "start_time": "2022-07-02T21:11:34.734430",
     "status": "completed"
    },
    "tags": []
   },
   "outputs": [
    {
     "name": "stdout",
     "output_type": "stream",
     "text": [
      "/kaggle/input/student-performance-data/student_data.csv\n"
     ]
    }
   ],
   "source": [
    "import pandas as pd\n",
    "import numpy as np\n",
    "import matplotlib.pyplot as plt\n",
    "import plotly \n",
    "import plotly.express as ex\n",
    "import seaborn as sns\n",
    "from plotly.io import templates\n",
    "from sklearn.preprocessing import StandardScaler\n",
    "from scipy.stats import norm\n",
    "from sklearn.preprocessing import LabelEncoder\n",
    "\n",
    "import numpy as np # linear algebra\n",
    "import pandas as pd # data processing, CSV file I/O (e.g. pd.read_csv)\n",
    "\n",
    "import os\n",
    "for dirname, _, filenames in os.walk('/kaggle/input'):\n",
    "    for filename in filenames:\n",
    "        print(os.path.join(dirname, filename))\n",
    "\n"
   ]
  },
  {
   "cell_type": "code",
   "execution_count": 2,
   "id": "358d46f0",
   "metadata": {
    "execution": {
     "iopub.execute_input": "2022-07-02T21:11:37.039063Z",
     "iopub.status.busy": "2022-07-02T21:11:37.038627Z",
     "iopub.status.idle": "2022-07-02T21:11:37.058595Z",
     "shell.execute_reply": "2022-07-02T21:11:37.057586Z"
    },
    "papermill": {
     "duration": 0.029224,
     "end_time": "2022-07-02T21:11:37.060864",
     "exception": false,
     "start_time": "2022-07-02T21:11:37.031640",
     "status": "completed"
    },
    "tags": []
   },
   "outputs": [
    {
     "data": {
      "text/plain": [
       "(395, 33)"
      ]
     },
     "execution_count": 2,
     "metadata": {},
     "output_type": "execute_result"
    }
   ],
   "source": [
    "df= pd.read_csv('../input/student-performance-data/student_data.csv')\n",
    "df.shape"
   ]
  },
  {
   "cell_type": "code",
   "execution_count": 3,
   "id": "2a455deb",
   "metadata": {
    "execution": {
     "iopub.execute_input": "2022-07-02T21:11:37.073764Z",
     "iopub.status.busy": "2022-07-02T21:11:37.073361Z",
     "iopub.status.idle": "2022-07-02T21:11:37.103751Z",
     "shell.execute_reply": "2022-07-02T21:11:37.102541Z"
    },
    "papermill": {
     "duration": 0.040041,
     "end_time": "2022-07-02T21:11:37.106599",
     "exception": false,
     "start_time": "2022-07-02T21:11:37.066558",
     "status": "completed"
    },
    "tags": []
   },
   "outputs": [
    {
     "data": {
      "text/html": [
       "<div>\n",
       "<style scoped>\n",
       "    .dataframe tbody tr th:only-of-type {\n",
       "        vertical-align: middle;\n",
       "    }\n",
       "\n",
       "    .dataframe tbody tr th {\n",
       "        vertical-align: top;\n",
       "    }\n",
       "\n",
       "    .dataframe thead th {\n",
       "        text-align: right;\n",
       "    }\n",
       "</style>\n",
       "<table border=\"1\" class=\"dataframe\">\n",
       "  <thead>\n",
       "    <tr style=\"text-align: right;\">\n",
       "      <th></th>\n",
       "      <th>school</th>\n",
       "      <th>sex</th>\n",
       "      <th>age</th>\n",
       "      <th>address</th>\n",
       "      <th>famsize</th>\n",
       "      <th>Pstatus</th>\n",
       "      <th>Medu</th>\n",
       "      <th>Fedu</th>\n",
       "      <th>Mjob</th>\n",
       "      <th>Fjob</th>\n",
       "      <th>...</th>\n",
       "      <th>famrel</th>\n",
       "      <th>freetime</th>\n",
       "      <th>goout</th>\n",
       "      <th>Dalc</th>\n",
       "      <th>Walc</th>\n",
       "      <th>health</th>\n",
       "      <th>absences</th>\n",
       "      <th>G1</th>\n",
       "      <th>G2</th>\n",
       "      <th>G3</th>\n",
       "    </tr>\n",
       "  </thead>\n",
       "  <tbody>\n",
       "    <tr>\n",
       "      <th>0</th>\n",
       "      <td>GP</td>\n",
       "      <td>F</td>\n",
       "      <td>18</td>\n",
       "      <td>U</td>\n",
       "      <td>GT3</td>\n",
       "      <td>A</td>\n",
       "      <td>4</td>\n",
       "      <td>4</td>\n",
       "      <td>at_home</td>\n",
       "      <td>teacher</td>\n",
       "      <td>...</td>\n",
       "      <td>4</td>\n",
       "      <td>3</td>\n",
       "      <td>4</td>\n",
       "      <td>1</td>\n",
       "      <td>1</td>\n",
       "      <td>3</td>\n",
       "      <td>6</td>\n",
       "      <td>5</td>\n",
       "      <td>6</td>\n",
       "      <td>6</td>\n",
       "    </tr>\n",
       "    <tr>\n",
       "      <th>1</th>\n",
       "      <td>GP</td>\n",
       "      <td>F</td>\n",
       "      <td>17</td>\n",
       "      <td>U</td>\n",
       "      <td>GT3</td>\n",
       "      <td>T</td>\n",
       "      <td>1</td>\n",
       "      <td>1</td>\n",
       "      <td>at_home</td>\n",
       "      <td>other</td>\n",
       "      <td>...</td>\n",
       "      <td>5</td>\n",
       "      <td>3</td>\n",
       "      <td>3</td>\n",
       "      <td>1</td>\n",
       "      <td>1</td>\n",
       "      <td>3</td>\n",
       "      <td>4</td>\n",
       "      <td>5</td>\n",
       "      <td>5</td>\n",
       "      <td>6</td>\n",
       "    </tr>\n",
       "    <tr>\n",
       "      <th>2</th>\n",
       "      <td>GP</td>\n",
       "      <td>F</td>\n",
       "      <td>15</td>\n",
       "      <td>U</td>\n",
       "      <td>LE3</td>\n",
       "      <td>T</td>\n",
       "      <td>1</td>\n",
       "      <td>1</td>\n",
       "      <td>at_home</td>\n",
       "      <td>other</td>\n",
       "      <td>...</td>\n",
       "      <td>4</td>\n",
       "      <td>3</td>\n",
       "      <td>2</td>\n",
       "      <td>2</td>\n",
       "      <td>3</td>\n",
       "      <td>3</td>\n",
       "      <td>10</td>\n",
       "      <td>7</td>\n",
       "      <td>8</td>\n",
       "      <td>10</td>\n",
       "    </tr>\n",
       "    <tr>\n",
       "      <th>3</th>\n",
       "      <td>GP</td>\n",
       "      <td>F</td>\n",
       "      <td>15</td>\n",
       "      <td>U</td>\n",
       "      <td>GT3</td>\n",
       "      <td>T</td>\n",
       "      <td>4</td>\n",
       "      <td>2</td>\n",
       "      <td>health</td>\n",
       "      <td>services</td>\n",
       "      <td>...</td>\n",
       "      <td>3</td>\n",
       "      <td>2</td>\n",
       "      <td>2</td>\n",
       "      <td>1</td>\n",
       "      <td>1</td>\n",
       "      <td>5</td>\n",
       "      <td>2</td>\n",
       "      <td>15</td>\n",
       "      <td>14</td>\n",
       "      <td>15</td>\n",
       "    </tr>\n",
       "    <tr>\n",
       "      <th>4</th>\n",
       "      <td>GP</td>\n",
       "      <td>F</td>\n",
       "      <td>16</td>\n",
       "      <td>U</td>\n",
       "      <td>GT3</td>\n",
       "      <td>T</td>\n",
       "      <td>3</td>\n",
       "      <td>3</td>\n",
       "      <td>other</td>\n",
       "      <td>other</td>\n",
       "      <td>...</td>\n",
       "      <td>4</td>\n",
       "      <td>3</td>\n",
       "      <td>2</td>\n",
       "      <td>1</td>\n",
       "      <td>2</td>\n",
       "      <td>5</td>\n",
       "      <td>4</td>\n",
       "      <td>6</td>\n",
       "      <td>10</td>\n",
       "      <td>10</td>\n",
       "    </tr>\n",
       "  </tbody>\n",
       "</table>\n",
       "<p>5 rows × 33 columns</p>\n",
       "</div>"
      ],
      "text/plain": [
       "  school sex  age address famsize Pstatus  Medu  Fedu     Mjob      Fjob  ...  \\\n",
       "0     GP   F   18       U     GT3       A     4     4  at_home   teacher  ...   \n",
       "1     GP   F   17       U     GT3       T     1     1  at_home     other  ...   \n",
       "2     GP   F   15       U     LE3       T     1     1  at_home     other  ...   \n",
       "3     GP   F   15       U     GT3       T     4     2   health  services  ...   \n",
       "4     GP   F   16       U     GT3       T     3     3    other     other  ...   \n",
       "\n",
       "  famrel freetime  goout  Dalc  Walc health absences  G1  G2  G3  \n",
       "0      4        3      4     1     1      3        6   5   6   6  \n",
       "1      5        3      3     1     1      3        4   5   5   6  \n",
       "2      4        3      2     2     3      3       10   7   8  10  \n",
       "3      3        2      2     1     1      5        2  15  14  15  \n",
       "4      4        3      2     1     2      5        4   6  10  10  \n",
       "\n",
       "[5 rows x 33 columns]"
      ]
     },
     "execution_count": 3,
     "metadata": {},
     "output_type": "execute_result"
    }
   ],
   "source": [
    "df.head()"
   ]
  },
  {
   "cell_type": "code",
   "execution_count": 4,
   "id": "4e5647aa",
   "metadata": {
    "execution": {
     "iopub.execute_input": "2022-07-02T21:11:37.121286Z",
     "iopub.status.busy": "2022-07-02T21:11:37.120224Z",
     "iopub.status.idle": "2022-07-02T21:11:37.144822Z",
     "shell.execute_reply": "2022-07-02T21:11:37.143734Z"
    },
    "papermill": {
     "duration": 0.034391,
     "end_time": "2022-07-02T21:11:37.147131",
     "exception": false,
     "start_time": "2022-07-02T21:11:37.112740",
     "status": "completed"
    },
    "tags": []
   },
   "outputs": [
    {
     "data": {
      "text/html": [
       "<div>\n",
       "<style scoped>\n",
       "    .dataframe tbody tr th:only-of-type {\n",
       "        vertical-align: middle;\n",
       "    }\n",
       "\n",
       "    .dataframe tbody tr th {\n",
       "        vertical-align: top;\n",
       "    }\n",
       "\n",
       "    .dataframe thead th {\n",
       "        text-align: right;\n",
       "    }\n",
       "</style>\n",
       "<table border=\"1\" class=\"dataframe\">\n",
       "  <thead>\n",
       "    <tr style=\"text-align: right;\">\n",
       "      <th></th>\n",
       "      <th>school</th>\n",
       "      <th>sex</th>\n",
       "      <th>age</th>\n",
       "      <th>address</th>\n",
       "      <th>famsize</th>\n",
       "      <th>Pstatus</th>\n",
       "      <th>Medu</th>\n",
       "      <th>Fedu</th>\n",
       "      <th>Mjob</th>\n",
       "      <th>Fjob</th>\n",
       "      <th>...</th>\n",
       "      <th>freetime</th>\n",
       "      <th>goout</th>\n",
       "      <th>Dalc</th>\n",
       "      <th>Walc</th>\n",
       "      <th>health</th>\n",
       "      <th>absences</th>\n",
       "      <th>G1</th>\n",
       "      <th>G2</th>\n",
       "      <th>G3</th>\n",
       "      <th>G_Mean</th>\n",
       "    </tr>\n",
       "  </thead>\n",
       "  <tbody>\n",
       "    <tr>\n",
       "      <th>0</th>\n",
       "      <td>GP</td>\n",
       "      <td>F</td>\n",
       "      <td>18</td>\n",
       "      <td>U</td>\n",
       "      <td>GT3</td>\n",
       "      <td>A</td>\n",
       "      <td>4</td>\n",
       "      <td>4</td>\n",
       "      <td>at_home</td>\n",
       "      <td>teacher</td>\n",
       "      <td>...</td>\n",
       "      <td>3</td>\n",
       "      <td>4</td>\n",
       "      <td>1</td>\n",
       "      <td>1</td>\n",
       "      <td>3</td>\n",
       "      <td>6</td>\n",
       "      <td>5</td>\n",
       "      <td>6</td>\n",
       "      <td>6</td>\n",
       "      <td>5.666667</td>\n",
       "    </tr>\n",
       "    <tr>\n",
       "      <th>1</th>\n",
       "      <td>GP</td>\n",
       "      <td>F</td>\n",
       "      <td>17</td>\n",
       "      <td>U</td>\n",
       "      <td>GT3</td>\n",
       "      <td>T</td>\n",
       "      <td>1</td>\n",
       "      <td>1</td>\n",
       "      <td>at_home</td>\n",
       "      <td>other</td>\n",
       "      <td>...</td>\n",
       "      <td>3</td>\n",
       "      <td>3</td>\n",
       "      <td>1</td>\n",
       "      <td>1</td>\n",
       "      <td>3</td>\n",
       "      <td>4</td>\n",
       "      <td>5</td>\n",
       "      <td>5</td>\n",
       "      <td>6</td>\n",
       "      <td>5.333333</td>\n",
       "    </tr>\n",
       "    <tr>\n",
       "      <th>2</th>\n",
       "      <td>GP</td>\n",
       "      <td>F</td>\n",
       "      <td>15</td>\n",
       "      <td>U</td>\n",
       "      <td>LE3</td>\n",
       "      <td>T</td>\n",
       "      <td>1</td>\n",
       "      <td>1</td>\n",
       "      <td>at_home</td>\n",
       "      <td>other</td>\n",
       "      <td>...</td>\n",
       "      <td>3</td>\n",
       "      <td>2</td>\n",
       "      <td>2</td>\n",
       "      <td>3</td>\n",
       "      <td>3</td>\n",
       "      <td>10</td>\n",
       "      <td>7</td>\n",
       "      <td>8</td>\n",
       "      <td>10</td>\n",
       "      <td>8.333333</td>\n",
       "    </tr>\n",
       "    <tr>\n",
       "      <th>3</th>\n",
       "      <td>GP</td>\n",
       "      <td>F</td>\n",
       "      <td>15</td>\n",
       "      <td>U</td>\n",
       "      <td>GT3</td>\n",
       "      <td>T</td>\n",
       "      <td>4</td>\n",
       "      <td>2</td>\n",
       "      <td>health</td>\n",
       "      <td>services</td>\n",
       "      <td>...</td>\n",
       "      <td>2</td>\n",
       "      <td>2</td>\n",
       "      <td>1</td>\n",
       "      <td>1</td>\n",
       "      <td>5</td>\n",
       "      <td>2</td>\n",
       "      <td>15</td>\n",
       "      <td>14</td>\n",
       "      <td>15</td>\n",
       "      <td>14.666667</td>\n",
       "    </tr>\n",
       "  </tbody>\n",
       "</table>\n",
       "<p>4 rows × 34 columns</p>\n",
       "</div>"
      ],
      "text/plain": [
       "  school sex  age address famsize Pstatus  Medu  Fedu     Mjob      Fjob  ...  \\\n",
       "0     GP   F   18       U     GT3       A     4     4  at_home   teacher  ...   \n",
       "1     GP   F   17       U     GT3       T     1     1  at_home     other  ...   \n",
       "2     GP   F   15       U     LE3       T     1     1  at_home     other  ...   \n",
       "3     GP   F   15       U     GT3       T     4     2   health  services  ...   \n",
       "\n",
       "  freetime goout  Dalc  Walc  health absences  G1  G2  G3     G_Mean  \n",
       "0        3     4     1     1       3        6   5   6   6   5.666667  \n",
       "1        3     3     1     1       3        4   5   5   6   5.333333  \n",
       "2        3     2     2     3       3       10   7   8  10   8.333333  \n",
       "3        2     2     1     1       5        2  15  14  15  14.666667  \n",
       "\n",
       "[4 rows x 34 columns]"
      ]
     },
     "execution_count": 4,
     "metadata": {},
     "output_type": "execute_result"
    }
   ],
   "source": [
    "total_grade = (df.G1 + df.G2 + df.G3)\n",
    "average_grade = total_grade/3\n",
    "df['G_Mean'] = average_grade\n",
    "df.head(4)"
   ]
  },
  {
   "cell_type": "code",
   "execution_count": 5,
   "id": "add8a32c",
   "metadata": {
    "execution": {
     "iopub.execute_input": "2022-07-02T21:11:37.161646Z",
     "iopub.status.busy": "2022-07-02T21:11:37.160955Z",
     "iopub.status.idle": "2022-07-02T21:11:37.166894Z",
     "shell.execute_reply": "2022-07-02T21:11:37.165794Z"
    },
    "papermill": {
     "duration": 0.015639,
     "end_time": "2022-07-02T21:11:37.169165",
     "exception": false,
     "start_time": "2022-07-02T21:11:37.153526",
     "status": "completed"
    },
    "tags": []
   },
   "outputs": [
    {
     "name": "stdout",
     "output_type": "stream",
     "text": [
      "19\n",
      "19\n",
      "20\n"
     ]
    }
   ],
   "source": [
    "print(df['G1'].max())\n",
    "print(df['G2'].max())\n",
    "print(df['G3'].max())"
   ]
  },
  {
   "cell_type": "code",
   "execution_count": 6,
   "id": "8d0361c0",
   "metadata": {
    "execution": {
     "iopub.execute_input": "2022-07-02T21:11:37.184207Z",
     "iopub.status.busy": "2022-07-02T21:11:37.183021Z",
     "iopub.status.idle": "2022-07-02T21:11:37.207969Z",
     "shell.execute_reply": "2022-07-02T21:11:37.206852Z"
    },
    "papermill": {
     "duration": 0.034554,
     "end_time": "2022-07-02T21:11:37.210146",
     "exception": false,
     "start_time": "2022-07-02T21:11:37.175592",
     "status": "completed"
    },
    "tags": []
   },
   "outputs": [
    {
     "data": {
      "text/html": [
       "<div>\n",
       "<style scoped>\n",
       "    .dataframe tbody tr th:only-of-type {\n",
       "        vertical-align: middle;\n",
       "    }\n",
       "\n",
       "    .dataframe tbody tr th {\n",
       "        vertical-align: top;\n",
       "    }\n",
       "\n",
       "    .dataframe thead th {\n",
       "        text-align: right;\n",
       "    }\n",
       "</style>\n",
       "<table border=\"1\" class=\"dataframe\">\n",
       "  <thead>\n",
       "    <tr style=\"text-align: right;\">\n",
       "      <th></th>\n",
       "      <th>school</th>\n",
       "      <th>sex</th>\n",
       "      <th>age</th>\n",
       "      <th>address</th>\n",
       "      <th>famsize</th>\n",
       "      <th>Pstatus</th>\n",
       "      <th>Medu</th>\n",
       "      <th>Fedu</th>\n",
       "      <th>Mjob</th>\n",
       "      <th>Fjob</th>\n",
       "      <th>...</th>\n",
       "      <th>Dalc</th>\n",
       "      <th>Walc</th>\n",
       "      <th>health</th>\n",
       "      <th>absences</th>\n",
       "      <th>G1</th>\n",
       "      <th>G2</th>\n",
       "      <th>G3</th>\n",
       "      <th>G_Mean</th>\n",
       "      <th>G_Percentage</th>\n",
       "      <th>Total_grade</th>\n",
       "    </tr>\n",
       "  </thead>\n",
       "  <tbody>\n",
       "    <tr>\n",
       "      <th>0</th>\n",
       "      <td>GP</td>\n",
       "      <td>F</td>\n",
       "      <td>18</td>\n",
       "      <td>U</td>\n",
       "      <td>GT3</td>\n",
       "      <td>A</td>\n",
       "      <td>4</td>\n",
       "      <td>4</td>\n",
       "      <td>at_home</td>\n",
       "      <td>teacher</td>\n",
       "      <td>...</td>\n",
       "      <td>1</td>\n",
       "      <td>1</td>\n",
       "      <td>3</td>\n",
       "      <td>6</td>\n",
       "      <td>5</td>\n",
       "      <td>6</td>\n",
       "      <td>6</td>\n",
       "      <td>5.666667</td>\n",
       "      <td>28.333333</td>\n",
       "      <td>17</td>\n",
       "    </tr>\n",
       "    <tr>\n",
       "      <th>1</th>\n",
       "      <td>GP</td>\n",
       "      <td>F</td>\n",
       "      <td>17</td>\n",
       "      <td>U</td>\n",
       "      <td>GT3</td>\n",
       "      <td>T</td>\n",
       "      <td>1</td>\n",
       "      <td>1</td>\n",
       "      <td>at_home</td>\n",
       "      <td>other</td>\n",
       "      <td>...</td>\n",
       "      <td>1</td>\n",
       "      <td>1</td>\n",
       "      <td>3</td>\n",
       "      <td>4</td>\n",
       "      <td>5</td>\n",
       "      <td>5</td>\n",
       "      <td>6</td>\n",
       "      <td>5.333333</td>\n",
       "      <td>26.666667</td>\n",
       "      <td>16</td>\n",
       "    </tr>\n",
       "    <tr>\n",
       "      <th>2</th>\n",
       "      <td>GP</td>\n",
       "      <td>F</td>\n",
       "      <td>15</td>\n",
       "      <td>U</td>\n",
       "      <td>LE3</td>\n",
       "      <td>T</td>\n",
       "      <td>1</td>\n",
       "      <td>1</td>\n",
       "      <td>at_home</td>\n",
       "      <td>other</td>\n",
       "      <td>...</td>\n",
       "      <td>2</td>\n",
       "      <td>3</td>\n",
       "      <td>3</td>\n",
       "      <td>10</td>\n",
       "      <td>7</td>\n",
       "      <td>8</td>\n",
       "      <td>10</td>\n",
       "      <td>8.333333</td>\n",
       "      <td>41.666667</td>\n",
       "      <td>25</td>\n",
       "    </tr>\n",
       "    <tr>\n",
       "      <th>3</th>\n",
       "      <td>GP</td>\n",
       "      <td>F</td>\n",
       "      <td>15</td>\n",
       "      <td>U</td>\n",
       "      <td>GT3</td>\n",
       "      <td>T</td>\n",
       "      <td>4</td>\n",
       "      <td>2</td>\n",
       "      <td>health</td>\n",
       "      <td>services</td>\n",
       "      <td>...</td>\n",
       "      <td>1</td>\n",
       "      <td>1</td>\n",
       "      <td>5</td>\n",
       "      <td>2</td>\n",
       "      <td>15</td>\n",
       "      <td>14</td>\n",
       "      <td>15</td>\n",
       "      <td>14.666667</td>\n",
       "      <td>73.333333</td>\n",
       "      <td>44</td>\n",
       "    </tr>\n",
       "  </tbody>\n",
       "</table>\n",
       "<p>4 rows × 36 columns</p>\n",
       "</div>"
      ],
      "text/plain": [
       "  school sex  age address famsize Pstatus  Medu  Fedu     Mjob      Fjob  ...  \\\n",
       "0     GP   F   18       U     GT3       A     4     4  at_home   teacher  ...   \n",
       "1     GP   F   17       U     GT3       T     1     1  at_home     other  ...   \n",
       "2     GP   F   15       U     LE3       T     1     1  at_home     other  ...   \n",
       "3     GP   F   15       U     GT3       T     4     2   health  services  ...   \n",
       "\n",
       "  Dalc Walc  health  absences  G1  G2  G3     G_Mean G_Percentage Total_grade  \n",
       "0    1    1       3         6   5   6   6   5.666667    28.333333          17  \n",
       "1    1    1       3         4   5   5   6   5.333333    26.666667          16  \n",
       "2    2    3       3        10   7   8  10   8.333333    41.666667          25  \n",
       "3    1    1       5         2  15  14  15  14.666667    73.333333          44  \n",
       "\n",
       "[4 rows x 36 columns]"
      ]
     },
     "execution_count": 6,
     "metadata": {},
     "output_type": "execute_result"
    }
   ],
   "source": [
    "percentage = (total_grade / 60)*100\n",
    "df['G_Percentage'] = percentage\n",
    "df['Total_grade'] = total_grade\n",
    "df.head(4)"
   ]
  },
  {
   "cell_type": "code",
   "execution_count": 7,
   "id": "cdc8263d",
   "metadata": {
    "execution": {
     "iopub.execute_input": "2022-07-02T21:11:37.225207Z",
     "iopub.status.busy": "2022-07-02T21:11:37.224493Z",
     "iopub.status.idle": "2022-07-02T21:11:37.231729Z",
     "shell.execute_reply": "2022-07-02T21:11:37.230928Z"
    },
    "papermill": {
     "duration": 0.017104,
     "end_time": "2022-07-02T21:11:37.233705",
     "exception": false,
     "start_time": "2022-07-02T21:11:37.216601",
     "status": "completed"
    },
    "tags": []
   },
   "outputs": [
    {
     "data": {
      "text/plain": [
       "96.66666666666667"
      ]
     },
     "execution_count": 7,
     "metadata": {},
     "output_type": "execute_result"
    }
   ],
   "source": [
    "df['G_Percentage'].max()"
   ]
  },
  {
   "cell_type": "code",
   "execution_count": 8,
   "id": "e6e39a86",
   "metadata": {
    "execution": {
     "iopub.execute_input": "2022-07-02T21:11:37.248744Z",
     "iopub.status.busy": "2022-07-02T21:11:37.247970Z",
     "iopub.status.idle": "2022-07-02T21:11:37.255623Z",
     "shell.execute_reply": "2022-07-02T21:11:37.254368Z"
    },
    "papermill": {
     "duration": 0.017637,
     "end_time": "2022-07-02T21:11:37.257789",
     "exception": false,
     "start_time": "2022-07-02T21:11:37.240152",
     "status": "completed"
    },
    "tags": []
   },
   "outputs": [
    {
     "data": {
      "text/plain": [
       "6.666666666666667"
      ]
     },
     "execution_count": 8,
     "metadata": {},
     "output_type": "execute_result"
    }
   ],
   "source": [
    "df['G_Percentage'].min()"
   ]
  },
  {
   "cell_type": "code",
   "execution_count": 9,
   "id": "e12753f4",
   "metadata": {
    "execution": {
     "iopub.execute_input": "2022-07-02T21:11:37.277336Z",
     "iopub.status.busy": "2022-07-02T21:11:37.276634Z",
     "iopub.status.idle": "2022-07-02T21:11:37.297737Z",
     "shell.execute_reply": "2022-07-02T21:11:37.296099Z"
    },
    "papermill": {
     "duration": 0.03584,
     "end_time": "2022-07-02T21:11:37.301184",
     "exception": false,
     "start_time": "2022-07-02T21:11:37.265344",
     "status": "completed"
    },
    "tags": []
   },
   "outputs": [
    {
     "name": "stdout",
     "output_type": "stream",
     "text": [
      "Number of Student less than 35 percent  60\n",
      "Number of Student more than 35 percent  327\n",
      "Number of Student more than 90 percent  6\n"
     ]
    }
   ],
   "source": [
    "print('Number of Student less than 35 percent ',len(df.query('G_Percentage < 35')))\n",
    "print('Number of Student more than 35 percent ',len(df.query('G_Percentage > 35')))\n",
    "print('Number of Student more than 90 percent ',len(df.query('G_Percentage > 90')))"
   ]
  },
  {
   "cell_type": "code",
   "execution_count": 10,
   "id": "f35230d5",
   "metadata": {
    "execution": {
     "iopub.execute_input": "2022-07-02T21:11:37.317533Z",
     "iopub.status.busy": "2022-07-02T21:11:37.316776Z",
     "iopub.status.idle": "2022-07-02T21:11:37.324281Z",
     "shell.execute_reply": "2022-07-02T21:11:37.323464Z"
    },
    "papermill": {
     "duration": 0.017948,
     "end_time": "2022-07-02T21:11:37.326353",
     "exception": false,
     "start_time": "2022-07-02T21:11:37.308405",
     "status": "completed"
    },
    "tags": []
   },
   "outputs": [],
   "source": [
    "students_above_90 = df.query('G_Percentage > 90')"
   ]
  },
  {
   "cell_type": "code",
   "execution_count": 11,
   "id": "5985ffbc",
   "metadata": {
    "execution": {
     "iopub.execute_input": "2022-07-02T21:11:37.341841Z",
     "iopub.status.busy": "2022-07-02T21:11:37.341114Z",
     "iopub.status.idle": "2022-07-02T21:11:37.362979Z",
     "shell.execute_reply": "2022-07-02T21:11:37.361896Z"
    },
    "papermill": {
     "duration": 0.032154,
     "end_time": "2022-07-02T21:11:37.365218",
     "exception": false,
     "start_time": "2022-07-02T21:11:37.333064",
     "status": "completed"
    },
    "tags": []
   },
   "outputs": [
    {
     "data": {
      "text/html": [
       "<div>\n",
       "<style scoped>\n",
       "    .dataframe tbody tr th:only-of-type {\n",
       "        vertical-align: middle;\n",
       "    }\n",
       "\n",
       "    .dataframe tbody tr th {\n",
       "        vertical-align: top;\n",
       "    }\n",
       "\n",
       "    .dataframe thead th {\n",
       "        text-align: right;\n",
       "    }\n",
       "</style>\n",
       "<table border=\"1\" class=\"dataframe\">\n",
       "  <thead>\n",
       "    <tr style=\"text-align: right;\">\n",
       "      <th></th>\n",
       "      <th>school</th>\n",
       "      <th>sex</th>\n",
       "      <th>age</th>\n",
       "      <th>address</th>\n",
       "      <th>famsize</th>\n",
       "      <th>Pstatus</th>\n",
       "      <th>Medu</th>\n",
       "      <th>Fedu</th>\n",
       "      <th>Mjob</th>\n",
       "      <th>Fjob</th>\n",
       "      <th>...</th>\n",
       "      <th>Dalc</th>\n",
       "      <th>Walc</th>\n",
       "      <th>health</th>\n",
       "      <th>absences</th>\n",
       "      <th>G1</th>\n",
       "      <th>G2</th>\n",
       "      <th>G3</th>\n",
       "      <th>G_Mean</th>\n",
       "      <th>G_Percentage</th>\n",
       "      <th>Total_grade</th>\n",
       "    </tr>\n",
       "  </thead>\n",
       "  <tbody>\n",
       "    <tr>\n",
       "      <th>42</th>\n",
       "      <td>GP</td>\n",
       "      <td>M</td>\n",
       "      <td>15</td>\n",
       "      <td>U</td>\n",
       "      <td>GT3</td>\n",
       "      <td>T</td>\n",
       "      <td>4</td>\n",
       "      <td>4</td>\n",
       "      <td>services</td>\n",
       "      <td>teacher</td>\n",
       "      <td>...</td>\n",
       "      <td>1</td>\n",
       "      <td>1</td>\n",
       "      <td>5</td>\n",
       "      <td>2</td>\n",
       "      <td>19</td>\n",
       "      <td>18</td>\n",
       "      <td>18</td>\n",
       "      <td>18.333333</td>\n",
       "      <td>91.666667</td>\n",
       "      <td>55</td>\n",
       "    </tr>\n",
       "    <tr>\n",
       "      <th>47</th>\n",
       "      <td>GP</td>\n",
       "      <td>M</td>\n",
       "      <td>16</td>\n",
       "      <td>U</td>\n",
       "      <td>GT3</td>\n",
       "      <td>T</td>\n",
       "      <td>4</td>\n",
       "      <td>3</td>\n",
       "      <td>health</td>\n",
       "      <td>services</td>\n",
       "      <td>...</td>\n",
       "      <td>1</td>\n",
       "      <td>1</td>\n",
       "      <td>2</td>\n",
       "      <td>4</td>\n",
       "      <td>19</td>\n",
       "      <td>19</td>\n",
       "      <td>20</td>\n",
       "      <td>19.333333</td>\n",
       "      <td>96.666667</td>\n",
       "      <td>58</td>\n",
       "    </tr>\n",
       "    <tr>\n",
       "      <th>110</th>\n",
       "      <td>GP</td>\n",
       "      <td>M</td>\n",
       "      <td>15</td>\n",
       "      <td>U</td>\n",
       "      <td>LE3</td>\n",
       "      <td>A</td>\n",
       "      <td>4</td>\n",
       "      <td>4</td>\n",
       "      <td>teacher</td>\n",
       "      <td>teacher</td>\n",
       "      <td>...</td>\n",
       "      <td>1</td>\n",
       "      <td>1</td>\n",
       "      <td>4</td>\n",
       "      <td>6</td>\n",
       "      <td>18</td>\n",
       "      <td>19</td>\n",
       "      <td>19</td>\n",
       "      <td>18.666667</td>\n",
       "      <td>93.333333</td>\n",
       "      <td>56</td>\n",
       "    </tr>\n",
       "    <tr>\n",
       "      <th>113</th>\n",
       "      <td>GP</td>\n",
       "      <td>M</td>\n",
       "      <td>15</td>\n",
       "      <td>U</td>\n",
       "      <td>LE3</td>\n",
       "      <td>T</td>\n",
       "      <td>4</td>\n",
       "      <td>2</td>\n",
       "      <td>teacher</td>\n",
       "      <td>other</td>\n",
       "      <td>...</td>\n",
       "      <td>1</td>\n",
       "      <td>1</td>\n",
       "      <td>3</td>\n",
       "      <td>10</td>\n",
       "      <td>18</td>\n",
       "      <td>19</td>\n",
       "      <td>19</td>\n",
       "      <td>18.666667</td>\n",
       "      <td>93.333333</td>\n",
       "      <td>56</td>\n",
       "    </tr>\n",
       "    <tr>\n",
       "      <th>286</th>\n",
       "      <td>GP</td>\n",
       "      <td>F</td>\n",
       "      <td>18</td>\n",
       "      <td>U</td>\n",
       "      <td>GT3</td>\n",
       "      <td>T</td>\n",
       "      <td>2</td>\n",
       "      <td>2</td>\n",
       "      <td>at_home</td>\n",
       "      <td>at_home</td>\n",
       "      <td>...</td>\n",
       "      <td>1</td>\n",
       "      <td>2</td>\n",
       "      <td>2</td>\n",
       "      <td>5</td>\n",
       "      <td>18</td>\n",
       "      <td>18</td>\n",
       "      <td>19</td>\n",
       "      <td>18.333333</td>\n",
       "      <td>91.666667</td>\n",
       "      <td>55</td>\n",
       "    </tr>\n",
       "  </tbody>\n",
       "</table>\n",
       "<p>5 rows × 36 columns</p>\n",
       "</div>"
      ],
      "text/plain": [
       "    school sex  age address famsize Pstatus  Medu  Fedu      Mjob      Fjob  \\\n",
       "42      GP   M   15       U     GT3       T     4     4  services   teacher   \n",
       "47      GP   M   16       U     GT3       T     4     3    health  services   \n",
       "110     GP   M   15       U     LE3       A     4     4   teacher   teacher   \n",
       "113     GP   M   15       U     LE3       T     4     2   teacher     other   \n",
       "286     GP   F   18       U     GT3       T     2     2   at_home   at_home   \n",
       "\n",
       "     ... Dalc Walc  health  absences  G1  G2  G3     G_Mean G_Percentage  \\\n",
       "42   ...    1    1       5         2  19  18  18  18.333333    91.666667   \n",
       "47   ...    1    1       2         4  19  19  20  19.333333    96.666667   \n",
       "110  ...    1    1       4         6  18  19  19  18.666667    93.333333   \n",
       "113  ...    1    1       3        10  18  19  19  18.666667    93.333333   \n",
       "286  ...    1    2       2         5  18  18  19  18.333333    91.666667   \n",
       "\n",
       "    Total_grade  \n",
       "42           55  \n",
       "47           58  \n",
       "110          56  \n",
       "113          56  \n",
       "286          55  \n",
       "\n",
       "[5 rows x 36 columns]"
      ]
     },
     "execution_count": 11,
     "metadata": {},
     "output_type": "execute_result"
    }
   ],
   "source": [
    "students_above_90.head()"
   ]
  },
  {
   "cell_type": "code",
   "execution_count": 12,
   "id": "ff8cdcf1",
   "metadata": {
    "execution": {
     "iopub.execute_input": "2022-07-02T21:11:37.381189Z",
     "iopub.status.busy": "2022-07-02T21:11:37.380438Z",
     "iopub.status.idle": "2022-07-02T21:11:38.233598Z",
     "shell.execute_reply": "2022-07-02T21:11:38.232359Z"
    },
    "papermill": {
     "duration": 0.863692,
     "end_time": "2022-07-02T21:11:38.235836",
     "exception": false,
     "start_time": "2022-07-02T21:11:37.372144",
     "status": "completed"
    },
    "tags": []
   },
   "outputs": [
    {
     "data": {
      "text/plain": [
       "<BarContainer object of 395 artists>"
      ]
     },
     "execution_count": 12,
     "metadata": {},
     "output_type": "execute_result"
    },
    {
     "data": {
      "image/png": "[encoded data removed]",
      "text/plain": [
       "<Figure size 432x288 with 1 Axes>"
      ]
     },
     "metadata": {
      "needs_background": "light"
     },
     "output_type": "display_data"
    }
   ],
   "source": [
    "plt.bar(df['school'], df['G_Percentage'], color ='maroon',\n",
    "        width = 0.6)"
   ]
  },
  {
   "cell_type": "code",
   "execution_count": 13,
   "id": "1bf44fab",
   "metadata": {
    "execution": {
     "iopub.execute_input": "2022-07-02T21:11:38.252765Z",
     "iopub.status.busy": "2022-07-02T21:11:38.251953Z",
     "iopub.status.idle": "2022-07-02T21:11:38.415683Z",
     "shell.execute_reply": "2022-07-02T21:11:38.414900Z"
    },
    "papermill": {
     "duration": 0.17426,
     "end_time": "2022-07-02T21:11:38.417726",
     "exception": false,
     "start_time": "2022-07-02T21:11:38.243466",
     "status": "completed"
    },
    "tags": []
   },
   "outputs": [
    {
     "data": {
      "image/png": "[encoded data removed]",
      "text/plain": [
       "<Figure size 432x288 with 1 Axes>"
      ]
     },
     "metadata": {
      "needs_background": "light"
     },
     "output_type": "display_data"
    }
   ],
   "source": [
    "x = ['TOP 1', 'TOP 2', 'TOP 3']\n",
    "Top_3 = students_above_90.sort_values(['Total_grade'], ascending=[False]).head(3)\n",
    "y1 = Top_3['G1']\n",
    "y2 = Top_3['G2']\n",
    "y3 = Top_3['G3']\n",
    "\n",
    "plt.bar(x, y1, color='r')\n",
    "plt.bar(x, y2+y1, bottom= y1, color='b')\n",
    "plt.bar(x, y3+y2, bottom= y2, color='b')\n",
    "plt.show()"
   ]
  },
  {
   "cell_type": "code",
   "execution_count": 14,
   "id": "d7df9edd",
   "metadata": {
    "execution": {
     "iopub.execute_input": "2022-07-02T21:11:38.434517Z",
     "iopub.status.busy": "2022-07-02T21:11:38.433623Z",
     "iopub.status.idle": "2022-07-02T21:11:38.651786Z",
     "shell.execute_reply": "2022-07-02T21:11:38.650793Z"
    },
    "papermill": {
     "duration": 0.229324,
     "end_time": "2022-07-02T21:11:38.654371",
     "exception": false,
     "start_time": "2022-07-02T21:11:38.425047",
     "status": "completed"
    },
    "tags": []
   },
   "outputs": [
    {
     "data": {
      "image/png": "[encoded data removed]",
      "text/plain": [
       "<Figure size 432x288 with 1 Axes>"
      ]
     },
     "metadata": {
      "needs_background": "light"
     },
     "output_type": "display_data"
    }
   ],
   "source": [
    "# sns.scatterplot(x = 'Medu', y = 'G_Mean', data = df)\n",
    "plt.show()\n",
    "sns.scatterplot(x = 'Fedu', y = 'G_Mean', data = df)\n",
    "plt.show()"
   ]
  },
  {
   "cell_type": "code",
   "execution_count": 15,
   "id": "459ff6eb",
   "metadata": {
    "execution": {
     "iopub.execute_input": "2022-07-02T21:11:38.672306Z",
     "iopub.status.busy": "2022-07-02T21:11:38.671387Z",
     "iopub.status.idle": "2022-07-02T21:11:39.076917Z",
     "shell.execute_reply": "2022-07-02T21:11:39.076090Z"
    },
    "papermill": {
     "duration": 0.416697,
     "end_time": "2022-07-02T21:11:39.078805",
     "exception": false,
     "start_time": "2022-07-02T21:11:38.662108",
     "status": "completed"
    },
    "tags": []
   },
   "outputs": [
    {
     "data": {
      "image/png": "[encoded data removed]",
      "text/plain": [
       "<Figure size 432x288 with 1 Axes>"
      ]
     },
     "metadata": {
      "needs_background": "light"
     },
     "output_type": "display_data"
    },
    {
     "data": {
      "image/png": "[encoded data removed]",
      "text/plain": [
       "<Figure size 432x288 with 1 Axes>"
      ]
     },
     "metadata": {
      "needs_background": "light"
     },
     "output_type": "display_data"
    }
   ],
   "source": [
    "sns.scatterplot(x = 'Medu', y = 'G_Mean', data = df)\n",
    "plt.show()\n",
    "sns.scatterplot(x = 'Fedu', y = 'G_Mean', data = df)\n",
    "plt.show()"
   ]
  },
  {
   "cell_type": "code",
   "execution_count": 16,
   "id": "7ad0c7de",
   "metadata": {
    "execution": {
     "iopub.execute_input": "2022-07-02T21:11:39.098178Z",
     "iopub.status.busy": "2022-07-02T21:11:39.097489Z",
     "iopub.status.idle": "2022-07-02T21:11:39.418426Z",
     "shell.execute_reply": "2022-07-02T21:11:39.417402Z"
    },
    "papermill": {
     "duration": 0.333342,
     "end_time": "2022-07-02T21:11:39.420874",
     "exception": false,
     "start_time": "2022-07-02T21:11:39.087532",
     "status": "completed"
    },
    "tags": []
   },
   "outputs": [
    {
     "data": {
      "image/png": "[encoded data removed]",
      "text/plain": [
       "<Figure size 432x288 with 1 Axes>"
      ]
     },
     "metadata": {
      "needs_background": "light"
     },
     "output_type": "display_data"
    },
    {
     "data": {
      "image/png": "[encoded data removed]",
      "text/plain": [
       "<Figure size 432x288 with 1 Axes>"
      ]
     },
     "metadata": {
      "needs_background": "light"
     },
     "output_type": "display_data"
    }
   ],
   "source": [
    "sns.countplot(x='Mjob', data = df, palette='rocket', saturation=1.9)\n",
    "plt.show()\n",
    "sns.countplot(x='Fjob', data = df, palette='dark', saturation=1.9)\n",
    "plt.show()"
   ]
  },
  {
   "cell_type": "code",
   "execution_count": 17,
   "id": "ba736caa",
   "metadata": {
    "execution": {
     "iopub.execute_input": "2022-07-02T21:11:39.440681Z",
     "iopub.status.busy": "2022-07-02T21:11:39.439929Z",
     "iopub.status.idle": "2022-07-02T21:11:39.444874Z",
     "shell.execute_reply": "2022-07-02T21:11:39.444144Z"
    },
    "papermill": {
     "duration": 0.017036,
     "end_time": "2022-07-02T21:11:39.446945",
     "exception": false,
     "start_time": "2022-07-02T21:11:39.429909",
     "status": "completed"
    },
    "tags": []
   },
   "outputs": [],
   "source": [
    "new_df = df.copy()"
   ]
  },
  {
   "cell_type": "code",
   "execution_count": 18,
   "id": "92216505",
   "metadata": {
    "execution": {
     "iopub.execute_input": "2022-07-02T21:11:39.467675Z",
     "iopub.status.busy": "2022-07-02T21:11:39.467026Z",
     "iopub.status.idle": "2022-07-02T21:11:39.475380Z",
     "shell.execute_reply": "2022-07-02T21:11:39.474102Z"
    },
    "papermill": {
     "duration": 0.022096,
     "end_time": "2022-07-02T21:11:39.477558",
     "exception": false,
     "start_time": "2022-07-02T21:11:39.455462",
     "status": "completed"
    },
    "tags": []
   },
   "outputs": [],
   "source": [
    "lencoder = LabelEncoder() \n",
    "new_df['school'] = lencoder.fit_transform(new_df['school'])\n",
    "new_df['higher'] = lencoder.fit_transform(new_df['higher'])\n",
    "new_df['Pstatus'] = lencoder.fit_transform(new_df['Pstatus'])"
   ]
  },
  {
   "cell_type": "code",
   "execution_count": 19,
   "id": "b3c02b35",
   "metadata": {
    "execution": {
     "iopub.execute_input": "2022-07-02T21:11:39.499750Z",
     "iopub.status.busy": "2022-07-02T21:11:39.498917Z",
     "iopub.status.idle": "2022-07-02T21:11:39.521408Z",
     "shell.execute_reply": "2022-07-02T21:11:39.520105Z"
    },
    "papermill": {
     "duration": 0.036322,
     "end_time": "2022-07-02T21:11:39.524077",
     "exception": false,
     "start_time": "2022-07-02T21:11:39.487755",
     "status": "completed"
    },
    "tags": []
   },
   "outputs": [
    {
     "data": {
      "text/html": [
       "<div>\n",
       "<style scoped>\n",
       "    .dataframe tbody tr th:only-of-type {\n",
       "        vertical-align: middle;\n",
       "    }\n",
       "\n",
       "    .dataframe tbody tr th {\n",
       "        vertical-align: top;\n",
       "    }\n",
       "\n",
       "    .dataframe thead th {\n",
       "        text-align: right;\n",
       "    }\n",
       "</style>\n",
       "<table border=\"1\" class=\"dataframe\">\n",
       "  <thead>\n",
       "    <tr style=\"text-align: right;\">\n",
       "      <th></th>\n",
       "      <th>school</th>\n",
       "      <th>sex</th>\n",
       "      <th>age</th>\n",
       "      <th>address</th>\n",
       "      <th>famsize</th>\n",
       "      <th>Pstatus</th>\n",
       "      <th>Medu</th>\n",
       "      <th>Fedu</th>\n",
       "      <th>Mjob</th>\n",
       "      <th>Fjob</th>\n",
       "      <th>...</th>\n",
       "      <th>Dalc</th>\n",
       "      <th>Walc</th>\n",
       "      <th>health</th>\n",
       "      <th>absences</th>\n",
       "      <th>G1</th>\n",
       "      <th>G2</th>\n",
       "      <th>G3</th>\n",
       "      <th>G_Mean</th>\n",
       "      <th>G_Percentage</th>\n",
       "      <th>Total_grade</th>\n",
       "    </tr>\n",
       "  </thead>\n",
       "  <tbody>\n",
       "    <tr>\n",
       "      <th>0</th>\n",
       "      <td>0</td>\n",
       "      <td>F</td>\n",
       "      <td>18</td>\n",
       "      <td>U</td>\n",
       "      <td>GT3</td>\n",
       "      <td>0</td>\n",
       "      <td>4</td>\n",
       "      <td>4</td>\n",
       "      <td>at_home</td>\n",
       "      <td>teacher</td>\n",
       "      <td>...</td>\n",
       "      <td>1</td>\n",
       "      <td>1</td>\n",
       "      <td>3</td>\n",
       "      <td>6</td>\n",
       "      <td>5</td>\n",
       "      <td>6</td>\n",
       "      <td>6</td>\n",
       "      <td>5.666667</td>\n",
       "      <td>28.333333</td>\n",
       "      <td>17</td>\n",
       "    </tr>\n",
       "    <tr>\n",
       "      <th>1</th>\n",
       "      <td>0</td>\n",
       "      <td>F</td>\n",
       "      <td>17</td>\n",
       "      <td>U</td>\n",
       "      <td>GT3</td>\n",
       "      <td>1</td>\n",
       "      <td>1</td>\n",
       "      <td>1</td>\n",
       "      <td>at_home</td>\n",
       "      <td>other</td>\n",
       "      <td>...</td>\n",
       "      <td>1</td>\n",
       "      <td>1</td>\n",
       "      <td>3</td>\n",
       "      <td>4</td>\n",
       "      <td>5</td>\n",
       "      <td>5</td>\n",
       "      <td>6</td>\n",
       "      <td>5.333333</td>\n",
       "      <td>26.666667</td>\n",
       "      <td>16</td>\n",
       "    </tr>\n",
       "    <tr>\n",
       "      <th>2</th>\n",
       "      <td>0</td>\n",
       "      <td>F</td>\n",
       "      <td>15</td>\n",
       "      <td>U</td>\n",
       "      <td>LE3</td>\n",
       "      <td>1</td>\n",
       "      <td>1</td>\n",
       "      <td>1</td>\n",
       "      <td>at_home</td>\n",
       "      <td>other</td>\n",
       "      <td>...</td>\n",
       "      <td>2</td>\n",
       "      <td>3</td>\n",
       "      <td>3</td>\n",
       "      <td>10</td>\n",
       "      <td>7</td>\n",
       "      <td>8</td>\n",
       "      <td>10</td>\n",
       "      <td>8.333333</td>\n",
       "      <td>41.666667</td>\n",
       "      <td>25</td>\n",
       "    </tr>\n",
       "    <tr>\n",
       "      <th>3</th>\n",
       "      <td>0</td>\n",
       "      <td>F</td>\n",
       "      <td>15</td>\n",
       "      <td>U</td>\n",
       "      <td>GT3</td>\n",
       "      <td>1</td>\n",
       "      <td>4</td>\n",
       "      <td>2</td>\n",
       "      <td>health</td>\n",
       "      <td>services</td>\n",
       "      <td>...</td>\n",
       "      <td>1</td>\n",
       "      <td>1</td>\n",
       "      <td>5</td>\n",
       "      <td>2</td>\n",
       "      <td>15</td>\n",
       "      <td>14</td>\n",
       "      <td>15</td>\n",
       "      <td>14.666667</td>\n",
       "      <td>73.333333</td>\n",
       "      <td>44</td>\n",
       "    </tr>\n",
       "    <tr>\n",
       "      <th>4</th>\n",
       "      <td>0</td>\n",
       "      <td>F</td>\n",
       "      <td>16</td>\n",
       "      <td>U</td>\n",
       "      <td>GT3</td>\n",
       "      <td>1</td>\n",
       "      <td>3</td>\n",
       "      <td>3</td>\n",
       "      <td>other</td>\n",
       "      <td>other</td>\n",
       "      <td>...</td>\n",
       "      <td>1</td>\n",
       "      <td>2</td>\n",
       "      <td>5</td>\n",
       "      <td>4</td>\n",
       "      <td>6</td>\n",
       "      <td>10</td>\n",
       "      <td>10</td>\n",
       "      <td>8.666667</td>\n",
       "      <td>43.333333</td>\n",
       "      <td>26</td>\n",
       "    </tr>\n",
       "  </tbody>\n",
       "</table>\n",
       "<p>5 rows × 36 columns</p>\n",
       "</div>"
      ],
      "text/plain": [
       "   school sex  age address famsize  Pstatus  Medu  Fedu     Mjob      Fjob  \\\n",
       "0       0   F   18       U     GT3        0     4     4  at_home   teacher   \n",
       "1       0   F   17       U     GT3        1     1     1  at_home     other   \n",
       "2       0   F   15       U     LE3        1     1     1  at_home     other   \n",
       "3       0   F   15       U     GT3        1     4     2   health  services   \n",
       "4       0   F   16       U     GT3        1     3     3    other     other   \n",
       "\n",
       "   ... Dalc Walc  health  absences  G1  G2  G3     G_Mean G_Percentage  \\\n",
       "0  ...    1    1       3         6   5   6   6   5.666667    28.333333   \n",
       "1  ...    1    1       3         4   5   5   6   5.333333    26.666667   \n",
       "2  ...    2    3       3        10   7   8  10   8.333333    41.666667   \n",
       "3  ...    1    1       5         2  15  14  15  14.666667    73.333333   \n",
       "4  ...    1    2       5         4   6  10  10   8.666667    43.333333   \n",
       "\n",
       "  Total_grade  \n",
       "0          17  \n",
       "1          16  \n",
       "2          25  \n",
       "3          44  \n",
       "4          26  \n",
       "\n",
       "[5 rows x 36 columns]"
      ]
     },
     "execution_count": 19,
     "metadata": {},
     "output_type": "execute_result"
    }
   ],
   "source": [
    "new_df.head()"
   ]
  },
  {
   "cell_type": "code",
   "execution_count": 20,
   "id": "268d13d4",
   "metadata": {
    "execution": {
     "iopub.execute_input": "2022-07-02T21:11:39.544505Z",
     "iopub.status.busy": "2022-07-02T21:11:39.543760Z",
     "iopub.status.idle": "2022-07-02T21:11:39.552443Z",
     "shell.execute_reply": "2022-07-02T21:11:39.551360Z"
    },
    "papermill": {
     "duration": 0.021279,
     "end_time": "2022-07-02T21:11:39.554540",
     "exception": false,
     "start_time": "2022-07-02T21:11:39.533261",
     "status": "completed"
    },
    "tags": []
   },
   "outputs": [
    {
     "data": {
      "text/plain": [
       "['F', 'M']"
      ]
     },
     "execution_count": 20,
     "metadata": {},
     "output_type": "execute_result"
    }
   ],
   "source": [
    "new_df['sex'].unique().tolist()"
   ]
  },
  {
   "cell_type": "code",
   "execution_count": 21,
   "id": "5702431a",
   "metadata": {
    "execution": {
     "iopub.execute_input": "2022-07-02T21:11:39.573979Z",
     "iopub.status.busy": "2022-07-02T21:11:39.573599Z",
     "iopub.status.idle": "2022-07-02T21:11:39.879642Z",
     "shell.execute_reply": "2022-07-02T21:11:39.878809Z"
    },
    "papermill": {
     "duration": 0.318387,
     "end_time": "2022-07-02T21:11:39.881858",
     "exception": false,
     "start_time": "2022-07-02T21:11:39.563471",
     "status": "completed"
    },
    "tags": []
   },
   "outputs": [
    {
     "data": {
      "image/png": "[encoded data removed]",
      "text/plain": [
       "<Figure size 432x288 with 1 Axes>"
      ]
     },
     "metadata": {
      "needs_background": "light"
     },
     "output_type": "display_data"
    },
    {
     "data": {
      "image/png": "[encoded data removed]",
      "text/plain": [
       "<Figure size 432x288 with 1 Axes>"
      ]
     },
     "metadata": {
      "needs_background": "light"
     },
     "output_type": "display_data"
    }
   ],
   "source": [
    "sns.countplot(x='school', data = df, palette='dark', saturation=1.9)\n",
    "plt.show()\n",
    "sns.countplot(x='Fjob', data = df, palette='dark', saturation=1.9)\n",
    "plt.show()"
   ]
  },
  {
   "cell_type": "code",
   "execution_count": 22,
   "id": "72361cfc",
   "metadata": {
    "execution": {
     "iopub.execute_input": "2022-07-02T21:11:39.905351Z",
     "iopub.status.busy": "2022-07-02T21:11:39.904961Z",
     "iopub.status.idle": "2022-07-02T21:11:39.924062Z",
     "shell.execute_reply": "2022-07-02T21:11:39.923191Z"
    },
    "papermill": {
     "duration": 0.034125,
     "end_time": "2022-07-02T21:11:39.926039",
     "exception": false,
     "start_time": "2022-07-02T21:11:39.891914",
     "status": "completed"
    },
    "tags": []
   },
   "outputs": [
    {
     "data": {
      "text/html": [
       "<div>\n",
       "<style scoped>\n",
       "    .dataframe tbody tr th:only-of-type {\n",
       "        vertical-align: middle;\n",
       "    }\n",
       "\n",
       "    .dataframe tbody tr th {\n",
       "        vertical-align: top;\n",
       "    }\n",
       "\n",
       "    .dataframe thead th {\n",
       "        text-align: right;\n",
       "    }\n",
       "</style>\n",
       "<table border=\"1\" class=\"dataframe\">\n",
       "  <thead>\n",
       "    <tr style=\"text-align: right;\">\n",
       "      <th></th>\n",
       "      <th>school</th>\n",
       "      <th>sex</th>\n",
       "      <th>age</th>\n",
       "      <th>address</th>\n",
       "      <th>famsize</th>\n",
       "      <th>Pstatus</th>\n",
       "      <th>Medu</th>\n",
       "      <th>Fedu</th>\n",
       "      <th>Mjob</th>\n",
       "      <th>Fjob</th>\n",
       "      <th>...</th>\n",
       "      <th>Dalc</th>\n",
       "      <th>Walc</th>\n",
       "      <th>health</th>\n",
       "      <th>absences</th>\n",
       "      <th>G1</th>\n",
       "      <th>G2</th>\n",
       "      <th>G3</th>\n",
       "      <th>G_Mean</th>\n",
       "      <th>G_Percentage</th>\n",
       "      <th>Total_grade</th>\n",
       "    </tr>\n",
       "  </thead>\n",
       "  <tbody>\n",
       "    <tr>\n",
       "      <th>0</th>\n",
       "      <td>0</td>\n",
       "      <td>F</td>\n",
       "      <td>18</td>\n",
       "      <td>U</td>\n",
       "      <td>GT3</td>\n",
       "      <td>0</td>\n",
       "      <td>4</td>\n",
       "      <td>4</td>\n",
       "      <td>at_home</td>\n",
       "      <td>teacher</td>\n",
       "      <td>...</td>\n",
       "      <td>1</td>\n",
       "      <td>1</td>\n",
       "      <td>3</td>\n",
       "      <td>6</td>\n",
       "      <td>5</td>\n",
       "      <td>6</td>\n",
       "      <td>6</td>\n",
       "      <td>5.666667</td>\n",
       "      <td>28.333333</td>\n",
       "      <td>17</td>\n",
       "    </tr>\n",
       "    <tr>\n",
       "      <th>1</th>\n",
       "      <td>0</td>\n",
       "      <td>F</td>\n",
       "      <td>17</td>\n",
       "      <td>U</td>\n",
       "      <td>GT3</td>\n",
       "      <td>1</td>\n",
       "      <td>1</td>\n",
       "      <td>1</td>\n",
       "      <td>at_home</td>\n",
       "      <td>other</td>\n",
       "      <td>...</td>\n",
       "      <td>1</td>\n",
       "      <td>1</td>\n",
       "      <td>3</td>\n",
       "      <td>4</td>\n",
       "      <td>5</td>\n",
       "      <td>5</td>\n",
       "      <td>6</td>\n",
       "      <td>5.333333</td>\n",
       "      <td>26.666667</td>\n",
       "      <td>16</td>\n",
       "    </tr>\n",
       "    <tr>\n",
       "      <th>2</th>\n",
       "      <td>0</td>\n",
       "      <td>F</td>\n",
       "      <td>15</td>\n",
       "      <td>U</td>\n",
       "      <td>LE3</td>\n",
       "      <td>1</td>\n",
       "      <td>1</td>\n",
       "      <td>1</td>\n",
       "      <td>at_home</td>\n",
       "      <td>other</td>\n",
       "      <td>...</td>\n",
       "      <td>2</td>\n",
       "      <td>3</td>\n",
       "      <td>3</td>\n",
       "      <td>10</td>\n",
       "      <td>7</td>\n",
       "      <td>8</td>\n",
       "      <td>10</td>\n",
       "      <td>8.333333</td>\n",
       "      <td>41.666667</td>\n",
       "      <td>25</td>\n",
       "    </tr>\n",
       "    <tr>\n",
       "      <th>3</th>\n",
       "      <td>0</td>\n",
       "      <td>F</td>\n",
       "      <td>15</td>\n",
       "      <td>U</td>\n",
       "      <td>GT3</td>\n",
       "      <td>1</td>\n",
       "      <td>4</td>\n",
       "      <td>2</td>\n",
       "      <td>health</td>\n",
       "      <td>services</td>\n",
       "      <td>...</td>\n",
       "      <td>1</td>\n",
       "      <td>1</td>\n",
       "      <td>5</td>\n",
       "      <td>2</td>\n",
       "      <td>15</td>\n",
       "      <td>14</td>\n",
       "      <td>15</td>\n",
       "      <td>14.666667</td>\n",
       "      <td>73.333333</td>\n",
       "      <td>44</td>\n",
       "    </tr>\n",
       "    <tr>\n",
       "      <th>4</th>\n",
       "      <td>0</td>\n",
       "      <td>F</td>\n",
       "      <td>16</td>\n",
       "      <td>U</td>\n",
       "      <td>GT3</td>\n",
       "      <td>1</td>\n",
       "      <td>3</td>\n",
       "      <td>3</td>\n",
       "      <td>other</td>\n",
       "      <td>other</td>\n",
       "      <td>...</td>\n",
       "      <td>1</td>\n",
       "      <td>2</td>\n",
       "      <td>5</td>\n",
       "      <td>4</td>\n",
       "      <td>6</td>\n",
       "      <td>10</td>\n",
       "      <td>10</td>\n",
       "      <td>8.666667</td>\n",
       "      <td>43.333333</td>\n",
       "      <td>26</td>\n",
       "    </tr>\n",
       "  </tbody>\n",
       "</table>\n",
       "<p>5 rows × 36 columns</p>\n",
       "</div>"
      ],
      "text/plain": [
       "   school sex  age address famsize  Pstatus  Medu  Fedu     Mjob      Fjob  \\\n",
       "0       0   F   18       U     GT3        0     4     4  at_home   teacher   \n",
       "1       0   F   17       U     GT3        1     1     1  at_home     other   \n",
       "2       0   F   15       U     LE3        1     1     1  at_home     other   \n",
       "3       0   F   15       U     GT3        1     4     2   health  services   \n",
       "4       0   F   16       U     GT3        1     3     3    other     other   \n",
       "\n",
       "   ... Dalc Walc  health  absences  G1  G2  G3     G_Mean G_Percentage  \\\n",
       "0  ...    1    1       3         6   5   6   6   5.666667    28.333333   \n",
       "1  ...    1    1       3         4   5   5   6   5.333333    26.666667   \n",
       "2  ...    2    3       3        10   7   8  10   8.333333    41.666667   \n",
       "3  ...    1    1       5         2  15  14  15  14.666667    73.333333   \n",
       "4  ...    1    2       5         4   6  10  10   8.666667    43.333333   \n",
       "\n",
       "  Total_grade  \n",
       "0          17  \n",
       "1          16  \n",
       "2          25  \n",
       "3          44  \n",
       "4          26  \n",
       "\n",
       "[5 rows x 36 columns]"
      ]
     },
     "execution_count": 22,
     "metadata": {},
     "output_type": "execute_result"
    }
   ],
   "source": [
    "new_df.head()"
   ]
  },
  {
   "cell_type": "code",
   "execution_count": 23,
   "id": "f3fb60bb",
   "metadata": {
    "execution": {
     "iopub.execute_input": "2022-07-02T21:11:39.947883Z",
     "iopub.status.busy": "2022-07-02T21:11:39.947301Z",
     "iopub.status.idle": "2022-07-02T21:11:39.955610Z",
     "shell.execute_reply": "2022-07-02T21:11:39.953865Z"
    },
    "papermill": {
     "duration": 0.022167,
     "end_time": "2022-07-02T21:11:39.957882",
     "exception": false,
     "start_time": "2022-07-02T21:11:39.935715",
     "status": "completed"
    },
    "tags": []
   },
   "outputs": [
    {
     "name": "stdout",
     "output_type": "stream",
     "text": [
      "Skew of failures: 2.38702572387036\n",
      "Skew of goout: 0.11650241685363202\n",
      "Skew of studytime: 0.6321422002561792\n",
      "Skew of Medu: -0.31838068845785517\n",
      "Skew of Fedu: -0.03167209443510635\n"
     ]
    }
   ],
   "source": [
    "print(\"Skew of failures:\", df['failures'].skew())\n",
    "print(\"Skew of goout:\", df['goout'].skew())\n",
    "print(\"Skew of studytime:\", df['studytime'].skew())\n",
    "print(\"Skew of Medu:\", df['Medu'].skew())\n",
    "print(\"Skew of Fedu:\", df['Fedu'].skew())"
   ]
  },
  {
   "cell_type": "code",
   "execution_count": 24,
   "id": "09abfbfc",
   "metadata": {
    "execution": {
     "iopub.execute_input": "2022-07-02T21:11:39.980039Z",
     "iopub.status.busy": "2022-07-02T21:11:39.979294Z",
     "iopub.status.idle": "2022-07-02T21:11:39.998575Z",
     "shell.execute_reply": "2022-07-02T21:11:39.997565Z"
    },
    "papermill": {
     "duration": 0.032905,
     "end_time": "2022-07-02T21:11:40.000766",
     "exception": false,
     "start_time": "2022-07-02T21:11:39.967861",
     "status": "completed"
    },
    "tags": []
   },
   "outputs": [
    {
     "data": {
      "text/html": [
       "<div>\n",
       "<style scoped>\n",
       "    .dataframe tbody tr th:only-of-type {\n",
       "        vertical-align: middle;\n",
       "    }\n",
       "\n",
       "    .dataframe tbody tr th {\n",
       "        vertical-align: top;\n",
       "    }\n",
       "\n",
       "    .dataframe thead th {\n",
       "        text-align: right;\n",
       "    }\n",
       "</style>\n",
       "<table border=\"1\" class=\"dataframe\">\n",
       "  <thead>\n",
       "    <tr style=\"text-align: right;\">\n",
       "      <th></th>\n",
       "      <th>school</th>\n",
       "      <th>sex</th>\n",
       "      <th>age</th>\n",
       "      <th>address</th>\n",
       "      <th>famsize</th>\n",
       "      <th>Pstatus</th>\n",
       "      <th>Medu</th>\n",
       "      <th>Fedu</th>\n",
       "      <th>Mjob</th>\n",
       "      <th>Fjob</th>\n",
       "      <th>...</th>\n",
       "      <th>Dalc</th>\n",
       "      <th>Walc</th>\n",
       "      <th>health</th>\n",
       "      <th>absences</th>\n",
       "      <th>G1</th>\n",
       "      <th>G2</th>\n",
       "      <th>G3</th>\n",
       "      <th>G_Mean</th>\n",
       "      <th>G_Percentage</th>\n",
       "      <th>Total_grade</th>\n",
       "    </tr>\n",
       "  </thead>\n",
       "  <tbody>\n",
       "    <tr>\n",
       "      <th>0</th>\n",
       "      <td>0</td>\n",
       "      <td>F</td>\n",
       "      <td>18</td>\n",
       "      <td>U</td>\n",
       "      <td>GT3</td>\n",
       "      <td>0</td>\n",
       "      <td>4</td>\n",
       "      <td>4</td>\n",
       "      <td>at_home</td>\n",
       "      <td>teacher</td>\n",
       "      <td>...</td>\n",
       "      <td>1</td>\n",
       "      <td>1</td>\n",
       "      <td>3</td>\n",
       "      <td>6</td>\n",
       "      <td>5</td>\n",
       "      <td>6</td>\n",
       "      <td>6</td>\n",
       "      <td>5.666667</td>\n",
       "      <td>28.333333</td>\n",
       "      <td>17</td>\n",
       "    </tr>\n",
       "    <tr>\n",
       "      <th>1</th>\n",
       "      <td>0</td>\n",
       "      <td>F</td>\n",
       "      <td>17</td>\n",
       "      <td>U</td>\n",
       "      <td>GT3</td>\n",
       "      <td>1</td>\n",
       "      <td>1</td>\n",
       "      <td>1</td>\n",
       "      <td>at_home</td>\n",
       "      <td>other</td>\n",
       "      <td>...</td>\n",
       "      <td>1</td>\n",
       "      <td>1</td>\n",
       "      <td>3</td>\n",
       "      <td>4</td>\n",
       "      <td>5</td>\n",
       "      <td>5</td>\n",
       "      <td>6</td>\n",
       "      <td>5.333333</td>\n",
       "      <td>26.666667</td>\n",
       "      <td>16</td>\n",
       "    </tr>\n",
       "    <tr>\n",
       "      <th>2</th>\n",
       "      <td>0</td>\n",
       "      <td>F</td>\n",
       "      <td>15</td>\n",
       "      <td>U</td>\n",
       "      <td>LE3</td>\n",
       "      <td>1</td>\n",
       "      <td>1</td>\n",
       "      <td>1</td>\n",
       "      <td>at_home</td>\n",
       "      <td>other</td>\n",
       "      <td>...</td>\n",
       "      <td>2</td>\n",
       "      <td>3</td>\n",
       "      <td>3</td>\n",
       "      <td>10</td>\n",
       "      <td>7</td>\n",
       "      <td>8</td>\n",
       "      <td>10</td>\n",
       "      <td>8.333333</td>\n",
       "      <td>41.666667</td>\n",
       "      <td>25</td>\n",
       "    </tr>\n",
       "    <tr>\n",
       "      <th>3</th>\n",
       "      <td>0</td>\n",
       "      <td>F</td>\n",
       "      <td>15</td>\n",
       "      <td>U</td>\n",
       "      <td>GT3</td>\n",
       "      <td>1</td>\n",
       "      <td>4</td>\n",
       "      <td>2</td>\n",
       "      <td>health</td>\n",
       "      <td>services</td>\n",
       "      <td>...</td>\n",
       "      <td>1</td>\n",
       "      <td>1</td>\n",
       "      <td>5</td>\n",
       "      <td>2</td>\n",
       "      <td>15</td>\n",
       "      <td>14</td>\n",
       "      <td>15</td>\n",
       "      <td>14.666667</td>\n",
       "      <td>73.333333</td>\n",
       "      <td>44</td>\n",
       "    </tr>\n",
       "    <tr>\n",
       "      <th>4</th>\n",
       "      <td>0</td>\n",
       "      <td>F</td>\n",
       "      <td>16</td>\n",
       "      <td>U</td>\n",
       "      <td>GT3</td>\n",
       "      <td>1</td>\n",
       "      <td>3</td>\n",
       "      <td>3</td>\n",
       "      <td>other</td>\n",
       "      <td>other</td>\n",
       "      <td>...</td>\n",
       "      <td>1</td>\n",
       "      <td>2</td>\n",
       "      <td>5</td>\n",
       "      <td>4</td>\n",
       "      <td>6</td>\n",
       "      <td>10</td>\n",
       "      <td>10</td>\n",
       "      <td>8.666667</td>\n",
       "      <td>43.333333</td>\n",
       "      <td>26</td>\n",
       "    </tr>\n",
       "  </tbody>\n",
       "</table>\n",
       "<p>5 rows × 36 columns</p>\n",
       "</div>"
      ],
      "text/plain": [
       "   school sex  age address famsize  Pstatus  Medu  Fedu     Mjob      Fjob  \\\n",
       "0       0   F   18       U     GT3        0     4     4  at_home   teacher   \n",
       "1       0   F   17       U     GT3        1     1     1  at_home     other   \n",
       "2       0   F   15       U     LE3        1     1     1  at_home     other   \n",
       "3       0   F   15       U     GT3        1     4     2   health  services   \n",
       "4       0   F   16       U     GT3        1     3     3    other     other   \n",
       "\n",
       "   ... Dalc Walc  health  absences  G1  G2  G3     G_Mean G_Percentage  \\\n",
       "0  ...    1    1       3         6   5   6   6   5.666667    28.333333   \n",
       "1  ...    1    1       3         4   5   5   6   5.333333    26.666667   \n",
       "2  ...    2    3       3        10   7   8  10   8.333333    41.666667   \n",
       "3  ...    1    1       5         2  15  14  15  14.666667    73.333333   \n",
       "4  ...    1    2       5         4   6  10  10   8.666667    43.333333   \n",
       "\n",
       "  Total_grade  \n",
       "0          17  \n",
       "1          16  \n",
       "2          25  \n",
       "3          44  \n",
       "4          26  \n",
       "\n",
       "[5 rows x 36 columns]"
      ]
     },
     "execution_count": 24,
     "metadata": {},
     "output_type": "execute_result"
    }
   ],
   "source": [
    "new_df.head()"
   ]
  },
  {
   "cell_type": "code",
   "execution_count": 25,
   "id": "7be3fc8b",
   "metadata": {
    "execution": {
     "iopub.execute_input": "2022-07-02T21:11:40.023256Z",
     "iopub.status.busy": "2022-07-02T21:11:40.022521Z",
     "iopub.status.idle": "2022-07-02T21:11:40.430092Z",
     "shell.execute_reply": "2022-07-02T21:11:40.428980Z"
    },
    "papermill": {
     "duration": 0.421486,
     "end_time": "2022-07-02T21:11:40.432249",
     "exception": false,
     "start_time": "2022-07-02T21:11:40.010763",
     "status": "completed"
    },
    "tags": []
   },
   "outputs": [
    {
     "data": {
      "text/plain": [
       "Text(0.5, 1.0, 'Fedu v. G_AVG')"
      ]
     },
     "execution_count": 25,
     "metadata": {},
     "output_type": "execute_result"
    },
    {
     "data": {
      "image/png": "[encoded data removed]",
      "text/plain": [
       "<Figure size 1080x360 with 3 Axes>"
      ]
     },
     "metadata": {
      "needs_background": "light"
     },
     "output_type": "display_data"
    }
   ],
   "source": [
    "plt.figure(figsize = (15,5))\n",
    "plt.subplot(1,3,1)\n",
    "plt.scatter(df.G_Mean, df.studytime)\n",
    "plt.title('Study Time v. G_AVG')\n",
    "\n",
    "plt.subplot(1,3,2)\n",
    "plt.scatter(df.G_Mean, df.Medu)\n",
    "plt.title('Medu v. G_AVG')\n",
    "\n",
    "plt.subplot(1,3,3)\n",
    "plt.scatter(df.G_Mean, df.Fedu)\n",
    "plt.title('Fedu v. G_AVG')"
   ]
  },
  {
   "cell_type": "code",
   "execution_count": 26,
   "id": "c9b7b469",
   "metadata": {
    "execution": {
     "iopub.execute_input": "2022-07-02T21:11:40.455124Z",
     "iopub.status.busy": "2022-07-02T21:11:40.454090Z",
     "iopub.status.idle": "2022-07-02T21:11:40.475469Z",
     "shell.execute_reply": "2022-07-02T21:11:40.474669Z"
    },
    "papermill": {
     "duration": 0.034983,
     "end_time": "2022-07-02T21:11:40.477542",
     "exception": false,
     "start_time": "2022-07-02T21:11:40.442559",
     "status": "completed"
    },
    "tags": []
   },
   "outputs": [
    {
     "name": "stdout",
     "output_type": "stream",
     "text": [
      "2 Hours or Less count    303.000000\n",
      "mean      10.377338\n",
      "std        3.653937\n",
      "min        1.333333\n",
      "25%        8.000000\n",
      "50%       10.333333\n",
      "75%       12.666667\n",
      "max       18.666667\n",
      "Name: G_Mean, dtype: float64\n",
      "3 Hours or More count    92.000000\n",
      "mean     11.673913\n",
      "std       3.682111\n",
      "min       2.333333\n",
      "25%       9.333333\n",
      "50%      11.666667\n",
      "75%      14.333333\n",
      "max      19.333333\n",
      "Name: G_Mean, dtype: float64\n"
     ]
    }
   ],
   "source": [
    "df_study2hoursorless = df.query('studytime <= 2')\n",
    "df_study3hoursormore = df.query('studytime > 2')\n",
    "\n",
    "print('2 Hours or Less', df_study2hoursorless.G_Mean.describe())\n",
    "print('3 Hours or More', df_study3hoursormore.G_Mean.describe())"
   ]
  },
  {
   "cell_type": "code",
   "execution_count": null,
   "id": "d19dae67",
   "metadata": {
    "papermill": {
     "duration": 0.010302,
     "end_time": "2022-07-02T21:11:40.498344",
     "exception": false,
     "start_time": "2022-07-02T21:11:40.488042",
     "status": "completed"
    },
    "tags": []
   },
   "outputs": [],
   "source": []
  }
 ],
 "metadata": {
  "kernelspec": {
   "display_name": "Python 3",
   "language": "python",
   "name": "python3"
  },
  "language_info": {
   "codemirror_mode": {
    "name": "ipython",
    "version": 3
   },
   "file_extension": ".py",
   "mimetype": "text/x-python",
   "name": "python",
   "nbconvert_exporter": "python",
   "pygments_lexer": "ipython3",
   "version": "3.7.12"
  },
  "papermill": {
   "default_parameters": {},
   "duration": 15.226938,
   "end_time": "2022-07-02T21:11:41.329815",
   "environment_variables": {},
   "exception": null,
   "input_path": "__notebook__.ipynb",
   "output_path": "__notebook__.ipynb",
   "parameters": {},
   "start_time": "2022-07-02T21:11:26.102877",
   "version": "2.3.4"
  }
 },
 "nbformat": 4,
 "nbformat_minor": 5
}
